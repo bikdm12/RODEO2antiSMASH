{
 "cells": [
  {
   "cell_type": "markdown",
   "metadata": {},
   "source": [
    "# RODEO2antiSMASH\n",
    "## Settings"
   ]
  },
  {
   "cell_type": "code",
   "execution_count": 39,
   "metadata": {
    "ExecuteTime": {
     "end_time": "2020-02-28T18:16:16.382843Z",
     "start_time": "2020-02-28T18:16:16.374097Z"
    }
   },
   "outputs": [],
   "source": [
    "import os\n",
    "import csv\n",
    "import re\n",
    "import multiprocessing as mp\n",
    "from collections import OrderedDict\n",
    "from Bio import SeqIO\n",
    "from Bio.SeqFeature import SeqFeature, FeatureLocation"
   ]
  },
  {
   "cell_type": "markdown",
   "metadata": {},
   "source": [
    "### Directories with input files\n",
    "`gb_dir` is a directory with GenBank files trimmed to the size of genomic region analyzed by RODEO. Names are {RODEO QUERY} + '.gbk'\n",
    "\n",
    "`rod_dir` is a directory with RODEO output.\n",
    "\n",
    "`rod_dir_type` indicates the structure of the RODEO output directory. This variable may be either `'RODEO'` or `'RIPPER'`, all other values are ignored. `'RODEO'` correspond to the \"classic\" output when the information about all BGCs is stored in a single CSV table `main_co_occur.csv`. `'RIPPER'` is used if the RODEO is a part of the RIPPER analysis. In this case every BGCs has its own subdirectory."
   ]
  },
  {
   "cell_type": "code",
   "execution_count": 28,
   "metadata": {
    "ExecuteTime": {
     "end_time": "2020-02-28T17:16:58.098667Z",
     "start_time": "2020-02-28T17:16:58.091089Z"
    }
   },
   "outputs": [],
   "source": [
    "gb_dir = 'gbk/'               # Directory with trimed GenBank files\n",
    "gb_out_dir = 'converted_gbk/' # Directory for converted GenBank files\n",
    "rod_dir = 'ripper/'           # Directory with RODEO output\n",
    "rod_dir_type = 'RIPPER'       # Structure of the rod_dir directory"
   ]
  },
  {
   "cell_type": "code",
   "execution_count": 23,
   "metadata": {
    "ExecuteTime": {
     "end_time": "2020-02-28T16:34:49.564131Z",
     "start_time": "2020-02-28T16:34:49.557966Z"
    }
   },
   "outputs": [],
   "source": [
    "bg_domains_file = 'bg_domains.csv' # Table with biosynthetic domains"
   ]
  },
  {
   "cell_type": "code",
   "execution_count": 36,
   "metadata": {
    "ExecuteTime": {
     "end_time": "2020-02-28T18:09:15.954880Z",
     "start_time": "2020-02-28T18:09:15.948656Z"
    }
   },
   "outputs": [],
   "source": [
    "n = 100 # Maximum number of nucleotides between genes in bgc\n",
    "product_class = 'thiopeptide'"
   ]
  },
  {
   "cell_type": "code",
   "execution_count": null,
   "metadata": {},
   "outputs": [],
   "source": [
    "with open(bg_domains_file, 'r') as inf:\n",
    "    bg_domains = [row[0] for row in csv.reader(inf)]"
   ]
  },
  {
   "cell_type": "code",
   "execution_count": 31,
   "metadata": {
    "ExecuteTime": {
     "end_time": "2020-02-28T17:18:07.512374Z",
     "start_time": "2020-02-28T17:18:07.505447Z"
    }
   },
   "outputs": [],
   "source": [
    "if not os.path.isdir(gb_out_dir):\n",
    "    os.mkdir(gb_out_dir)"
   ]
  }
 ],
 "metadata": {
  "kernelspec": {
   "display_name": "Python 2",
   "language": "python",
   "name": "python2"
  },
  "language_info": {
   "codemirror_mode": {
    "name": "ipython",
    "version": 2
   },
   "file_extension": ".py",
   "mimetype": "text/x-python",
   "name": "python",
   "nbconvert_exporter": "python",
   "pygments_lexer": "ipython2",
   "version": "2.7.15"
  }
 },
 "nbformat": 4,
 "nbformat_minor": 2
}
