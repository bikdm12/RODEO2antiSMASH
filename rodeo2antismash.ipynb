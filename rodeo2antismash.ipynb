{
 "cells": [
  {
   "cell_type": "markdown",
   "metadata": {},
   "source": [
    "# RODEO2antiSMASH\n",
    "## Settings"
   ]
  },
  {
   "cell_type": "code",
   "execution_count": 5,
   "metadata": {
    "ExecuteTime": {
     "end_time": "2020-02-28T18:37:02.243916Z",
     "start_time": "2020-02-28T18:37:02.236738Z"
    }
   },
   "outputs": [],
   "source": [
    "import os\n",
    "import multiprocessing as mp\n",
    "from rodeo2antismash import *"
   ]
  },
  {
   "cell_type": "markdown",
   "metadata": {},
   "source": [
    "### Directories with input files\n",
    "`gb_dir` is a directory with GenBank files trimmed to the size of genomic region analyzed by RODEO. Names are {RODEO QUERY} + '.gbk'\n",
    "\n",
    "`rod_dir` is a directory with RODEO output.\n",
    "\n",
    "`rod_dir_type` indicates the structure of the RODEO output directory. This variable may be either `'RODEO'` or `'RIPPER'`, all other values are ignored. `'RODEO'` correspond to the \"classic\" output when the information about all BGCs is stored in a single CSV table `main_co_occur.csv`. `'RIPPER'` is used if the RODEO is a part of the RIPPER analysis. In this case every BGCs has its own subdirectory."
   ]
  },
  {
   "cell_type": "code",
   "execution_count": 28,
   "metadata": {
    "ExecuteTime": {
     "end_time": "2020-02-28T17:16:58.098667Z",
     "start_time": "2020-02-28T17:16:58.091089Z"
    }
   },
   "outputs": [],
   "source": [
    "rod_dir = 'ripper/'           # Directory with RODEO output\n",
    "rod_dir_type = 'RIPPER'       # Structure of the rod_dir directory\n",
    "\n",
    "gb_dir = 'gbk/'               # Directory with trimed GenBank files\n",
    "gb_out_dir = 'converted_gbk/' # Output directory for converted GenBank files\n",
    "\n",
    "# Createing output directory if it doesn't exist\n",
    "if not os.path.isdir(gb_out_dir):\n",
    "    os.mkdir(gb_out_dir)"
   ]
  },
  {
   "cell_type": "markdown",
   "metadata": {},
   "source": [
    "Uncomment the code below if you want to check the structure of the RODEO output directory."
   ]
  },
  {
   "cell_type": "code",
   "execution_count": 4,
   "metadata": {
    "ExecuteTime": {
     "end_time": "2020-02-28T18:35:01.544703Z",
     "start_time": "2020-02-28T18:35:01.520406Z"
    }
   },
   "outputs": [
    {
     "data": {
      "text/plain": [
       "\"rod_dir_type = ''\\nif 'main_co_occur.csv' in os.listdir(rod_dir):\\n    rod_dir_type = 'RODEO'\\nelse:\\n    rod_dir_type = 'RIPPER'    \""
      ]
     },
     "execution_count": 4,
     "metadata": {},
     "output_type": "execute_result"
    }
   ],
   "source": [
    "'''rod_dir_type = ''\n",
    "if 'main_co_occur.csv' in os.listdir(rod_dir):\n",
    "    rod_dir_type = 'RODEO'\n",
    "else:\n",
    "    rod_dir_type = 'RIPPER'    '''"
   ]
  },
  {
   "cell_type": "markdown",
   "metadata": {},
   "source": [
    "### List of biosynthetic domains\n"
   ]
  },
  {
   "cell_type": "code",
   "execution_count": 6,
   "metadata": {
    "ExecuteTime": {
     "end_time": "2020-02-28T18:38:35.178582Z",
     "start_time": "2020-02-28T18:38:35.150443Z"
    }
   },
   "outputs": [
    {
     "ename": "IOError",
     "evalue": "[Errno 2] No such file or directory: 'bg_domains.csv'",
     "output_type": "error",
     "traceback": [
      "\u001b[0;31m---------------------------------------------------------------------------\u001b[0m",
      "\u001b[0;31mIOError\u001b[0m                                   Traceback (most recent call last)",
      "\u001b[0;32m<ipython-input-6-06e4f915073a>\u001b[0m in \u001b[0;36m<module>\u001b[0;34m()\u001b[0m\n\u001b[1;32m      2\u001b[0m \u001b[0;34m\u001b[0m\u001b[0m\n\u001b[1;32m      3\u001b[0m \u001b[0;31m# Extracting the list from the table\u001b[0m\u001b[0;34m\u001b[0m\u001b[0;34m\u001b[0m\u001b[0m\n\u001b[0;32m----> 4\u001b[0;31m \u001b[0;32mwith\u001b[0m \u001b[0mopen\u001b[0m\u001b[0;34m(\u001b[0m\u001b[0mbg_domains_file\u001b[0m\u001b[0;34m,\u001b[0m \u001b[0;34m'r'\u001b[0m\u001b[0;34m)\u001b[0m \u001b[0;32mas\u001b[0m \u001b[0minf\u001b[0m\u001b[0;34m:\u001b[0m\u001b[0;34m\u001b[0m\u001b[0m\n\u001b[0m\u001b[1;32m      5\u001b[0m     \u001b[0mbg_domains\u001b[0m \u001b[0;34m=\u001b[0m \u001b[0;34m[\u001b[0m\u001b[0mrow\u001b[0m\u001b[0;34m[\u001b[0m\u001b[0;36m0\u001b[0m\u001b[0;34m]\u001b[0m \u001b[0;32mfor\u001b[0m \u001b[0mrow\u001b[0m \u001b[0;32min\u001b[0m \u001b[0mcsv\u001b[0m\u001b[0;34m.\u001b[0m\u001b[0mreader\u001b[0m\u001b[0;34m(\u001b[0m\u001b[0minf\u001b[0m\u001b[0;34m)\u001b[0m\u001b[0;34m]\u001b[0m\u001b[0;34m\u001b[0m\u001b[0m\n",
      "\u001b[0;31mIOError\u001b[0m: [Errno 2] No such file or directory: 'bg_domains.csv'"
     ]
    }
   ],
   "source": [
    "bg_domains_file = 'bg_domains.csv' # Table with biosynthetic domains\n",
    "\n",
    "# Extracting the list from the table\n",
    "with open(bg_domains_file, 'r') as inf:\n",
    "    bg_domains = [row[1].split('.')[0] for row in csv.reader(inf)]"
   ]
  },
  {
   "cell_type": "markdown",
   "metadata": {},
   "source": [
    "### Maximum distance between genes in bgc"
   ]
  },
  {
   "cell_type": "code",
   "execution_count": 36,
   "metadata": {
    "ExecuteTime": {
     "end_time": "2020-02-28T18:09:15.954880Z",
     "start_time": "2020-02-28T18:09:15.948656Z"
    }
   },
   "outputs": [],
   "source": [
    "n = 100 # Maximum number of nucleotides between genes in bgc"
   ]
  },
  {
   "cell_type": "markdown",
   "metadata": {
    "ExecuteTime": {
     "end_time": "2020-02-28T18:41:07.864509Z",
     "start_time": "2020-02-28T18:41:07.858830Z"
    }
   },
   "source": [
    "### Class of a final product"
   ]
  },
  {
   "cell_type": "code",
   "execution_count": 8,
   "metadata": {
    "ExecuteTime": {
     "end_time": "2020-02-28T18:41:13.718500Z",
     "start_time": "2020-02-28T18:41:13.712570Z"
    }
   },
   "outputs": [],
   "source": [
    "product_class = 'thiopeptide'"
   ]
  },
  {
   "cell_type": "markdown",
   "metadata": {},
   "source": [
    "### Number of processes to run in parallel"
   ]
  },
  {
   "cell_type": "code",
   "execution_count": null,
   "metadata": {},
   "outputs": [],
   "source": [
    "n_proc = 4"
   ]
  },
  {
   "cell_type": "markdown",
   "metadata": {},
   "source": [
    "Uncomment the line below if you want the maximum number of processes. It is not recommended to set this number >= number of cpu's on your computer"
   ]
  },
  {
   "cell_type": "code",
   "execution_count": 11,
   "metadata": {
    "ExecuteTime": {
     "end_time": "2020-02-28T18:47:13.805413Z",
     "start_time": "2020-02-28T18:47:13.799033Z"
    }
   },
   "outputs": [],
   "source": [
    "#nproc = mp.cpu_count() - 1\n",
    "#print nproc"
   ]
  },
  {
   "cell_type": "markdown",
   "metadata": {},
   "source": [
    "## File conversion"
   ]
  },
  {
   "cell_type": "code",
   "execution_count": null,
   "metadata": {},
   "outputs": [],
   "source": [
    "bgcs = rodeo_output_iterator(rod_dir, rod_dir_type)\n",
    "\n",
    "pool = mp.Pool(n_proc)\n",
    "res = [ pool.apply_async(convert_gbk, args = (gb_dir, gb_out_dir, table, bg_domains, n, product_class)) \n",
    "       for table in rodeo_output_iterator ]\n",
    "\n",
    "pool.close()\n",
    "pool.join()\n",
    "print('Done!')"
   ]
  }
 ],
 "metadata": {
  "kernelspec": {
   "display_name": "Python 2",
   "language": "python",
   "name": "python2"
  },
  "language_info": {
   "codemirror_mode": {
    "name": "ipython",
    "version": 2
   },
   "file_extension": ".py",
   "mimetype": "text/x-python",
   "name": "python",
   "nbconvert_exporter": "python",
   "pygments_lexer": "ipython2",
   "version": "2.7.15"
  }
 },
 "nbformat": 4,
 "nbformat_minor": 2
}
