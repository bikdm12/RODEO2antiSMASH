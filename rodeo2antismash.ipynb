{
 "cells": [
  {
   "cell_type": "markdown",
   "metadata": {},
   "source": [
    "# RODEO2antiSMASH\n",
    "## Settings"
   ]
  },
  {
   "cell_type": "code",
   "execution_count": 1,
   "metadata": {
    "ExecuteTime": {
     "end_time": "2020-03-10T15:34:21.747168Z",
     "start_time": "2020-03-10T15:34:21.651293Z"
    }
   },
   "outputs": [],
   "source": [
    "%load_ext autoreload\n",
    "%autoreload 2\n",
    "%aimport rodeo2antismash\n",
    "\n",
    "import os\n",
    "import multiprocessing as mp\n",
    "from rodeo2antismash import *"
   ]
  },
  {
   "cell_type": "markdown",
   "metadata": {},
   "source": [
    "### Directories with input files\n",
    "`gb_dir` is a directory with GenBank files trimmed to the size of genomic region analyzed by RODEO. Names are {RODEO QUERY} + '.gbk'\n",
    "\n",
    "`rod_dir` is a directory with RODEO output.\n",
    "\n",
    "`rod_dir_type` indicates the structure of the RODEO output directory. This variable may be either `'RODEO'` or `'RIPPER'`, all other values are ignored. `'RODEO'` correspond to the \"classic\" output when the information about all BGCs is stored as one CSV table `main_co_occur.csv`. `'RIPPER'` is used if the RODEO was a part of the RIPPER analysis. In this case every BGCs has its own subdirectory."
   ]
  },
  {
   "cell_type": "code",
   "execution_count": 2,
   "metadata": {
    "ExecuteTime": {
     "end_time": "2020-03-10T15:34:22.883698Z",
     "start_time": "2020-03-10T15:34:22.858027Z"
    }
   },
   "outputs": [],
   "source": [
    "rod_dir = 'ripper/'           # Directory with RODEO output\n",
    "rod_dir_type = 'RIPPER'       # Structure of the rod_dir directory\n",
    "\n",
    "gb_dir = 'gbk/'               # Directory with trimed GenBank files\n",
    "gb_out_dir = 'converted_gbk/' # Output directory for converted GenBank files\n",
    "\n",
    "# Createing output directory if it doesn't exist\n",
    "if not os.path.isdir(gb_out_dir):\n",
    "    os.mkdir(gb_out_dir)"
   ]
  },
  {
   "cell_type": "markdown",
   "metadata": {},
   "source": [
    "Uncomment the code below to check the structure of the RODEO output directory."
   ]
  },
  {
   "cell_type": "code",
   "execution_count": 3,
   "metadata": {
    "ExecuteTime": {
     "end_time": "2020-03-10T15:07:15.199125Z",
     "start_time": "2020-03-10T15:07:15.189038Z"
    }
   },
   "outputs": [],
   "source": [
    "'''rod_dir_type = ''\n",
    "if 'main_co_occur.csv' in os.listdir(rod_dir):\n",
    "    rod_dir_type = 'RODEO'\n",
    "else:\n",
    "    rod_dir_type = 'RIPPER''''"
   ]
  },
  {
   "cell_type": "markdown",
   "metadata": {},
   "source": [
    "### List of biosynthetic domains\n"
   ]
  },
  {
   "cell_type": "code",
   "execution_count": 3,
   "metadata": {
    "ExecuteTime": {
     "end_time": "2020-03-10T15:34:27.954778Z",
     "start_time": "2020-03-10T15:34:27.930997Z"
    }
   },
   "outputs": [],
   "source": [
    "bg_domains_file = 'bg_domains.csv' \n",
    "# Table with biosynthetic domains. The domain identifiers are in the second column\n",
    "\n",
    "with open(bg_domains_file, 'r') as inf:\n",
    "    bg_domains = [row[1].split('.')[0] for row in csv.reader(inf)]"
   ]
  },
  {
   "cell_type": "markdown",
   "metadata": {},
   "source": [
    "### Maximum distance between genes in bgc"
   ]
  },
  {
   "cell_type": "code",
   "execution_count": 4,
   "metadata": {
    "ExecuteTime": {
     "end_time": "2020-03-10T15:34:29.372825Z",
     "start_time": "2020-03-10T15:34:29.354310Z"
    }
   },
   "outputs": [],
   "source": [
    "n = 100 # Maximum number of nucleotides between genes in bgc"
   ]
  },
  {
   "cell_type": "markdown",
   "metadata": {
    "ExecuteTime": {
     "end_time": "2020-02-28T18:41:07.864509Z",
     "start_time": "2020-02-28T18:41:07.858830Z"
    }
   },
   "source": [
    "### Class of a final product"
   ]
  },
  {
   "cell_type": "code",
   "execution_count": 5,
   "metadata": {
    "ExecuteTime": {
     "end_time": "2020-03-10T15:34:30.384604Z",
     "start_time": "2020-03-10T15:34:30.362201Z"
    }
   },
   "outputs": [],
   "source": [
    "product_class = 'thiopeptide'"
   ]
  },
  {
   "cell_type": "markdown",
   "metadata": {},
   "source": [
    "### Number of processes to run in parallel"
   ]
  },
  {
   "cell_type": "code",
   "execution_count": 6,
   "metadata": {
    "ExecuteTime": {
     "end_time": "2020-03-10T15:34:33.180723Z",
     "start_time": "2020-03-10T15:34:33.162473Z"
    }
   },
   "outputs": [],
   "source": [
    "n_proc = 4"
   ]
  },
  {
   "cell_type": "markdown",
   "metadata": {},
   "source": [
    "Uncomment the lines below if you want the maximum number of processes. It is not recommended to set this number >= number of cpu's on your computer"
   ]
  },
  {
   "cell_type": "code",
   "execution_count": 9,
   "metadata": {
    "ExecuteTime": {
     "end_time": "2020-03-10T15:08:06.584764Z",
     "start_time": "2020-03-10T15:08:06.562713Z"
    }
   },
   "outputs": [
    {
     "data": {
      "text/plain": [
       "'nproc = mp.cpu_count() - 2\\nprint nproc'"
      ]
     },
     "execution_count": 9,
     "metadata": {},
     "output_type": "execute_result"
    }
   ],
   "source": [
    "'''nproc = mp.cpu_count() - 2\n",
    "print nproc'''"
   ]
  },
  {
   "cell_type": "markdown",
   "metadata": {},
   "source": [
    "## File conversion"
   ]
  },
  {
   "cell_type": "code",
   "execution_count": 7,
   "metadata": {
    "ExecuteTime": {
     "end_time": "2020-03-10T15:34:37.961869Z",
     "start_time": "2020-03-10T15:34:37.611673Z"
    }
   },
   "outputs": [
    {
     "name": "stdout",
     "output_type": "stream",
     "text": [
      "Done!\n"
     ]
    }
   ],
   "source": [
    "bgcs = rodeo_output_iterator(rod_dir, rod_dir_type)\n",
    "\n",
    "pool = mp.Pool(n_proc)\n",
    "res = [ pool.apply_async(convert_gbk, args = (gb_dir, gb_out_dir, table, bg_domains, n, product_class)) \n",
    "       for table in bgcs ]\n",
    "\n",
    "pool.close()\n",
    "pool.join()\n",
    "print('Done!')"
   ]
  }
 ],
 "metadata": {
  "kernelspec": {
   "display_name": "Python 2",
   "language": "python",
   "name": "python2"
  },
  "language_info": {
   "codemirror_mode": {
    "name": "ipython",
    "version": 2
   },
   "file_extension": ".py",
   "mimetype": "text/x-python",
   "name": "python",
   "nbconvert_exporter": "python",
   "pygments_lexer": "ipython2",
   "version": "2.7.15"
  }
 },
 "nbformat": 4,
 "nbformat_minor": 2
}
