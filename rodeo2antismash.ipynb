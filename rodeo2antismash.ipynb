{
 "cells": [
  {
   "cell_type": "markdown",
   "metadata": {},
   "source": [
    "# RODEO2antiSMASH\n",
    "## Settings"
   ]
  },
  {
   "cell_type": "code",
   "execution_count": 1,
   "metadata": {
    "ExecuteTime": {
     "end_time": "2020-02-27T13:11:56.543818Z",
     "start_time": "2020-02-27T13:11:55.987505Z"
    }
   },
   "outputs": [],
   "source": [
    "import os\n",
    "import csv\n",
    "from Bio import SeqIO\n",
    "from Bio.Seq import Seq\n",
    "from Bio.Alphabet import generic_dna\n",
    "from Bio.SeqRecord import SeqRecord\n",
    "import pandas as pd\n",
    "import re\n",
    "import multiprocessing as mp"
   ]
  },
  {
   "cell_type": "markdown",
   "metadata": {},
   "source": [
    "### Directories with input files\n",
    "`gb_dir` is a directory with GenBank files trimmed to the size of genomic region analyzed by RODEO. Names are {RODEO QUERY} + '.gbk'\n",
    "\n",
    "`rod_dir` is a directory with RODEO output.\n",
    "\n",
    "`rod_dir_type` indicates the structure of the RODEO output directory. This variable may be either `'RODEO'` or `'RIPPER'`, all other values are ignored. `'RODEO'` correspond to the \"classic\" output when the information about all BGCs is stored in a single CSV table `main_co_occur.csv`. `'RIPPER'` is used if the RODEO is a part of the RIPPER analysis. In this case every BGCs has its own subdirectory."
   ]
  },
  {
   "cell_type": "code",
   "execution_count": 2,
   "metadata": {
    "ExecuteTime": {
     "end_time": "2020-02-27T13:11:56.951910Z",
     "start_time": "2020-02-27T13:11:56.945068Z"
    }
   },
   "outputs": [],
   "source": [
    "gb_dir = 'gbk/'         #Directory with trimed GenBank files\n",
    "rod_dir = 'ripper/'      #Directory with RODEO output\n",
    "rod_dir_type = 'RIPPER'  #Structure of the rod_dir directory"
   ]
  },
  {
   "cell_type": "code",
   "execution_count": null,
   "metadata": {},
   "outputs": [],
   "source": [
    "def operon_borders_proteins():\n",
    "    \n",
    "           \n",
    "    with open(rod_dir + x + '/main_co_occur.csv', 'r') as infile:\n",
    "        infile.next()\n",
    "            \n",
    "        operon_accs = []\n",
    "                \n",
    "        prev_end = 0\n",
    "        prev_strand = ''\n",
    "        seed = x\n",
    "\n",
    "        for row in csv.reader(infile):\n",
    "            start = min(int(row[4]), int(row[5]))\n",
    "            if (row[6] == prev_strand) and (start - prev_end < 100):\n",
    "                operon_accs.append(row[3])\n",
    "                    \n",
    "            else:\n",
    "                if seed in operon_accs:\n",
    "                    return (operon_accs[0], operon_accs[-1])\n",
    "                    \n",
    "                operon_accs = [row[3]]\n",
    "                    \n",
    "            prev_end = max(int(row[4]), int(row[5]))\n",
    "            prev_strand = row[6]\n",
    "        \n",
    "        if seed in operon_accs:\n",
    "            return (operon_accs[0], operon_accs[-1])"
   ]
  },
  {
   "cell_type": "code",
   "execution_count": null,
   "metadata": {},
   "outputs": [],
   "source": [
    "def get_bg_list(name, gotta_gbks):\n",
    "    #dirs = ['/home/gyrase/datatank/Bikmetov/ycao_clusters/ripper_out/rodeo/rodout/' + x for x in os.listdir('/home/gyrase/datatank/Bikmetov/ycao_clusters/ripper_out/rodeo/rodout/') if x in ycaos]\n",
    "    #dirs += ['rodout/' + x for x in os.listdir('rodout/') if x in ycaos]\n",
    "    \n",
    "    inlist = []\n",
    "    with open('domfilter/' + name + '/' +name + '_table' +'.csv', 'r') as infile:\n",
    "        inlist = [x for x in csv.reader(infile)]\n",
    "\n",
    "\n",
    "    li = []\n",
    "\n",
    "    for line in inlist:\n",
    "        for dir in gotta_gbks:\n",
    "            #print(dir + ' is processing')\n",
    "            with open(rod_dir + dir + '/main_co_occur.csv', 'r') as infile:\n",
    "                for row in csv.reader(infile):            \n",
    "                    try:\n",
    "                        if row[7] == line[0]:\n",
    "                            li.append(row[3])\n",
    "                    except:\n",
    "                        pass\n",
    "    return li"
   ]
  },
  {
   "cell_type": "code",
   "execution_count": null,
   "metadata": {},
   "outputs": [],
   "source": [
    "def operon_borders_coords(operon_borders):\n",
    "    operon_coords = {}\n",
    "    prot_id_regexp = re.compile('[A-Z]{2}_[0-9]+\\.[0-9]')\n",
    "    \n",
    "    \n",
    "    for x in os.listdir(gb_dir):\n",
    "        \n",
    "        prot_id = x.rstrip('.gbk')\n",
    "        \n",
    "        start_id = operon_borders[prot_id][0]\n",
    "        end_id = operon_borders[prot_id][1]\n",
    "        \n",
    "        operon_coords[prot_id] = []\n",
    "        \n",
    "        gb_record = SeqIO.parse(gb_dir + x, \"genbank\", generic_dna)\n",
    "        for record in gb_record:\n",
    "            for feature in record.features:\n",
    "                \n",
    "                if 'protein_id' in feature.qualifiers:\n",
    "                    \n",
    "                    if feature.qualifiers['protein_id'][0]  == start_id:\n",
    "                        operon_coords[prot_id].append(feature.location.start + 1)# genbank is 1-based, python is 0-based\n",
    "                           \n",
    "                    if feature.qualifiers['protein_id'][0]  == end_id:\n",
    "                       \n",
    "                        operon_coords[prot_id].append(int(feature.location.end))\n",
    "                \n",
    "                elif 'pseudo' in feature.qualifiers:\n",
    "                    \n",
    "                    if 'inference' in feature.qualifiers:\n",
    "                        \n",
    "                        inference_prot_id_search = prot_id_regexp.search(feature.qualifiers['inference'][0])\n",
    "                        \n",
    "                        if inference_prot_id_search is not None:\n",
    "                            \n",
    "                            inference_prot_id = inference_prot_id_search.group(0)\n",
    "                            \n",
    "                            if inference_prot_id  == start_id:\n",
    "                                operon_coords[prot_id].append(feature.location.start + 1)# genbank is [1:], python is\n",
    "\n",
    "                            if inference_prot_id  == end_id:\n",
    "                                operon_coords[prot_id].append(int(feature.location.end))\n",
    "                        else:\n",
    "                            \n",
    "                            if feature.qualifiers['locus_tag'][0]  == start_id:\n",
    "                                operon_coords[prot_id].append(feature.location.start + 1)# genbank is [1:], python is\n",
    "\n",
    "                            if feature.qualifiers['locus_tag'][0] == end_id:\n",
    "                                operon_coords[prot_id].append(int(feature.location.end))\n",
    "    return operon_coords"
   ]
  },
  {
   "cell_type": "code",
   "execution_count": null,
   "metadata": {},
   "outputs": [],
   "source": [
    "def antismash(name, types, operon_coords, gotta_gbks):\n",
    "    \n",
    "    inf = open('contig_edge.csv', 'r')\n",
    "    contig_edge_list = [x[0] for x in csv.reader(inf)]\n",
    "    inf.close\n",
    "    \n",
    "        \n",
    "    bg_list = get_bg_list(name, gotta_gbks)\n",
    "    #print bg_list\n",
    "    \n",
    "    bg = False\n",
    "    \n",
    "    contig_edge = False\n",
    "    \n",
    "    for x in os.listdir('trimmed_gbk_headers_corrected/'):\n",
    "        \n",
    "        with open('trimmed_gbk_headers_corrected/' + x, 'r') as infile:\n",
    "            with open('trimmed_gbk_headers_as_improved/' + x, 'w') as outfile:\n",
    "                \n",
    "                prot_id = x.rstrip('.gbk')\n",
    "                \n",
    "                if prot_id in contig_edge_list:\n",
    "                    contig_edge = True\n",
    "                else:\n",
    "                    contig_edge = False\n",
    "                print prot_id\n",
    "                cluster_start = operon_coords[prot_id][0]\n",
    "                cluster_end = operon_coords[prot_id][1]\n",
    "               \n",
    "                for line in infile:\n",
    "                    \n",
    "                    if line.startswith('                     /protein_id='):\n",
    "                        if line.split('\\\"')[-2] in bg_list:\n",
    "                            bg = True\n",
    "                    \n",
    "                    elif line.startswith('                     /transl_table=') and bg:\n",
    "                        outfile.write('                     /sec_met=\"Kind: biosynthetic\"' + '\\n')\n",
    "                        bg = False\n",
    "                    \n",
    "                    outfile.write(line)\n",
    "                    if line[0:8] == 'FEATURES':\n",
    "                        outfile.write('     cluster         ' + '..'.join((str(cluster_start), str(cluster_end))) + '\\n' + \n",
    "                                      '                     /contig_edge=\\\"' + str(contig_edge) + '\\\"' + '\\n' +\n",
    "                                      '                     /product=\\\"' + types[name] + '\\\"' + '\\n')"
   ]
  },
  {
   "cell_type": "code",
   "execution_count": 36,
   "metadata": {
    "ExecuteTime": {
     "end_time": "2020-02-27T14:12:22.777392Z",
     "start_time": "2020-02-27T14:12:22.749493Z"
    }
   },
   "outputs": [],
   "source": [
    "def rodeo_output_iterator(rod_dir, rod_dir_type):\n",
    "    \n",
    "    if not rod_dir_type:\n",
    "        if 'main_co_occur.csv' in os.listdir(rod_dir):\n",
    "            rod_dir_type = 'RODEO'\n",
    "        else:\n",
    "            rod_dir_type = 'RIPPER'\n",
    "    \n",
    "    if rod_dir_type == 'RODEO':\n",
    "        # It woulod be easier to use Pandas, but this way is more memory-efficient.\n",
    "        # It may be crucial when working with large datasets\n",
    "        with open('%s/main_co_occur.csv' % rod_dir) as infile:\n",
    "            infile.next()\n",
    "            prev_seed = None\n",
    "            table = []\n",
    "            for row in csv.reader(infile):\n",
    "                \n",
    "                if prev_seed is None:\n",
    "                    prev_seed = row[0]\n",
    "                \n",
    "                if row[0] == prev_seed:\n",
    "                    table.append(row)\n",
    "                \n",
    "                else:\n",
    "                    yield table\n",
    "                    prev_seed = row[0]\n",
    "                    table = [row]\n",
    "                \n",
    "            yield table\n",
    "            \n",
    "    elif rod_dir_type == 'RIPPER':\n",
    "        for folder in os.listdir(rod_dir):\n",
    "            if 'main_co_occur.csv' in os.listdir('%s/%s' % (rod_dir, folder)):\n",
    "                with open('%s/%s/main_co_occur.csv' % (rod_dir, folder)) as infile:\n",
    "                    \n",
    "                    infile.next()\n",
    "                    yield list(csv.reader(infile))"
   ]
  },
  {
   "cell_type": "code",
   "execution_count": 37,
   "metadata": {
    "ExecuteTime": {
     "end_time": "2020-02-27T14:12:24.080996Z",
     "start_time": "2020-02-27T14:12:24.074153Z"
    }
   },
   "outputs": [],
   "source": [
    "gb_dir = 'gbk/'         #Directory with trimed GenBank files\n",
    "rod_dir = 'rodeo/'      #Directory with RODEO output\n",
    "rod_dir_type = 'RODEO'  #Structure of the rod_dir directory"
   ]
  },
  {
   "cell_type": "code",
   "execution_count": 38,
   "metadata": {
    "ExecuteTime": {
     "end_time": "2020-02-27T14:12:25.031931Z",
     "start_time": "2020-02-27T14:12:25.011194Z"
    }
   },
   "outputs": [
    {
     "data": {
      "text/plain": [
       "[['WP_005486705.1',\n",
       "  'Streptomyces sp. SID5476',\n",
       "  'NZ_WWIH01000042.1',\n",
       "  'WP_028797007.1',\n",
       "  '212271',\n",
       "  '211668',\n",
       "  '-',\n",
       "  'PF01725',\n",
       "  'Ham1p_like',\n",
       "  'Ham1 family',\n",
       "  '6.4e-62'],\n",
       " ['WP_005486705.1',\n",
       "  'Streptomyces sp. SID5476',\n",
       "  'NZ_WWIH01000042.1',\n",
       "  'WP_005486686.1',\n",
       "  '212680',\n",
       "  '212305',\n",
       "  '-',\n",
       "  'PF04012',\n",
       "  'PspA_IM30',\n",
       "  'PspA/IM30 family',\n",
       "  '1.9e-05',\n",
       "  'PF07889',\n",
       "  'DUF1664',\n",
       "  'Protein of unknown function (DUF1664)',\n",
       "  '0.00028',\n",
       "  'PF06009',\n",
       "  'Laminin_II',\n",
       "  'Laminin Domain II',\n",
       "  '0.00044',\n",
       "  'PF12795',\n",
       "  'MscS_porin',\n",
       "  'Mechanosensitive ion channel porin domain',\n",
       "  '0.00045'],\n",
       " ['WP_005486705.1',\n",
       "  'Streptomyces sp. SID5476',\n",
       "  'NZ_WWIH01000042.1',\n",
       "  'WP_005486689.1',\n",
       "  '213597',\n",
       "  '212859',\n",
       "  '-',\n",
       "  'PF01138',\n",
       "  'RNase_PH',\n",
       "  \"3' exoribonuclease family, domain 1\",\n",
       "  '9.1e-26',\n",
       "  'PF03725',\n",
       "  'RNase_PH_C',\n",
       "  \"3' exoribonuclease family, domain 2\",\n",
       "  '2.6e-10'],\n",
       " ['WP_005486705.1',\n",
       "  'Streptomyces sp. SID5476',\n",
       "  'NZ_WWIH01000042.1',\n",
       "  'WP_005486691.1',\n",
       "  '213921',\n",
       "  '213681',\n",
       "  '-',\n",
       "  'PF00367',\n",
       "  'PTS_EIIB',\n",
       "  'phosphotransferase system, EIIB',\n",
       "  '5.3e-13'],\n",
       " ['WP_005486705.1',\n",
       "  'Streptomyces sp. SID5476',\n",
       "  'NZ_WWIH01000042.1',\n",
       "  'WP_005486693.1',\n",
       "  '215322',\n",
       "  '214035',\n",
       "  '-',\n",
       "  'PF07690',\n",
       "  'MFS_1',\n",
       "  'Major Facilitator Superfamily',\n",
       "  '2.3e-27',\n",
       "  'PF05977',\n",
       "  'MFS_3',\n",
       "  'Transmembrane secretion effector',\n",
       "  '1.5e-13',\n",
       "  'PF00083',\n",
       "  'Sugar_tr',\n",
       "  'Sugar (and other) transporter',\n",
       "  '4.2e-06'],\n",
       " ['WP_005486705.1',\n",
       "  'Streptomyces sp. SID5476',\n",
       "  'NZ_WWIH01000042.1',\n",
       "  'WP_005486696.1',\n",
       "  '216695',\n",
       "  '215855',\n",
       "  '-',\n",
       "  'PF04072',\n",
       "  'LCM',\n",
       "  'Leucine carboxyl methyltransferase',\n",
       "  '1e-20'],\n",
       " ['WP_005486705.1',\n",
       "  'Streptomyces sp. SID5476',\n",
       "  'NZ_WWIH01000042.1',\n",
       "  'WP_005486699.1',\n",
       "  '217122',\n",
       "  '219015',\n",
       "  '+',\n",
       "  'PF04055',\n",
       "  'Radical_SAM',\n",
       "  'Radical SAM superfamily',\n",
       "  '9.5e-08',\n",
       "  'PF02310',\n",
       "  'B12-binding',\n",
       "  'B12 binding domain',\n",
       "  '1.2e-05'],\n",
       " ['WP_005486705.1',\n",
       "  'Streptomyces sp. SID5476',\n",
       "  'NZ_WWIH01000042.1',\n",
       "  'WP_005486703.1',\n",
       "  '219161',\n",
       "  '219296',\n",
       "  '+'],\n",
       " ['WP_005486705.1',\n",
       "  'Streptomyces sp. SID5476',\n",
       "  'NZ_WWIH01000042.1',\n",
       "  'WP_005486705.1',\n",
       "  '219359',\n",
       "  '220592',\n",
       "  '+',\n",
       "  'PF02624',\n",
       "  'YcaO',\n",
       "  'YcaO cyclodehydratase, ATP-ad Mg2+-binding',\n",
       "  '9.8e-09'],\n",
       " ['WP_005486705.1',\n",
       "  'Streptomyces sp. SID5476',\n",
       "  'NZ_WWIH01000042.1',\n",
       "  'WP_020115555.1',\n",
       "  '220479',\n",
       "  '221871',\n",
       "  '+',\n",
       "  'PF02624',\n",
       "  'YcaO',\n",
       "  'YcaO cyclodehydratase, ATP-ad Mg2+-binding',\n",
       "  '5.7e-34'],\n",
       " ['WP_005486705.1',\n",
       "  'Streptomyces sp. SID5476',\n",
       "  'NZ_WWIH01000042.1',\n",
       "  'WP_005486708.1',\n",
       "  '221867',\n",
       "  '223880',\n",
       "  '+',\n",
       "  'PF04055',\n",
       "  'Radical_SAM',\n",
       "  'Radical SAM superfamily',\n",
       "  '5.6e-08',\n",
       "  'PF02310',\n",
       "  'B12-binding',\n",
       "  'B12 binding domain',\n",
       "  '0.00089'],\n",
       " ['WP_005486705.1',\n",
       "  'Streptomyces sp. SID5476',\n",
       "  'NZ_WWIH01000042.1',\n",
       "  'WP_037628024.1',\n",
       "  '223914',\n",
       "  '224736',\n",
       "  '+',\n",
       "  'PF00561',\n",
       "  'Abhydrolase_1',\n",
       "  'alpha/beta hydrolase fold',\n",
       "  '2.7e-10',\n",
       "  'PF12697',\n",
       "  'Abhydrolase_6',\n",
       "  'Alpha/beta hydrolase family',\n",
       "  '8.6e-07',\n",
       "  'PF12146',\n",
       "  'Hydrolase_4',\n",
       "  'Serine aminopeptidase, S33',\n",
       "  '3.3e-06'],\n",
       " ['WP_005486705.1',\n",
       "  'Streptomyces sp. SID5476',\n",
       "  'NZ_WWIH01000042.1',\n",
       "  'WP_005486711.1',\n",
       "  '224732',\n",
       "  '226169',\n",
       "  '+',\n",
       "  'PF01979',\n",
       "  'Amidohydro_1',\n",
       "  'Amidohydrolase family',\n",
       "  '2.4e-07',\n",
       "  'PF07969',\n",
       "  'Amidohydro_3',\n",
       "  'Amidohydrolase family',\n",
       "  '2.4e-05'],\n",
       " ['WP_005486705.1',\n",
       "  'Streptomyces sp. SID5476',\n",
       "  'NZ_WWIH01000042.1',\n",
       "  'WP_005486713.1',\n",
       "  '226254',\n",
       "  '227391',\n",
       "  '+',\n",
       "  'PF00067',\n",
       "  'p450',\n",
       "  'Cytochrome P450',\n",
       "  '2.3e-13'],\n",
       " ['WP_005486705.1',\n",
       "  'Streptomyces sp. SID5476',\n",
       "  'NZ_WWIH01000042.1',\n",
       "  'WP_005486715.1',\n",
       "  '227398',\n",
       "  '229432',\n",
       "  '+',\n",
       "  'PF04055',\n",
       "  'Radical_SAM',\n",
       "  'Radical SAM superfamily',\n",
       "  '9.3e-09',\n",
       "  'PF02310',\n",
       "  'B12-binding',\n",
       "  'B12 binding domain',\n",
       "  '6.5e-06'],\n",
       " ['WP_005486705.1',\n",
       "  'Streptomyces sp. SID5476',\n",
       "  'NZ_WWIH01000042.1',\n",
       "  'WP_005486717.1',\n",
       "  '229522',\n",
       "  '230128',\n",
       "  '+',\n",
       "  'PF09860',\n",
       "  'DUF2087',\n",
       "  'Uncharacterized protein conserved in bacteria (DUF2087)',\n",
       "  '5.6e-22'],\n",
       " ['WP_005486705.1',\n",
       "  'Streptomyces sp. SID5476',\n",
       "  'NZ_WWIH01000042.1',\n",
       "  'WP_005486722.1',\n",
       "  '230132',\n",
       "  '231647',\n",
       "  '+',\n",
       "  'PF00883',\n",
       "  'Peptidase_M17',\n",
       "  'Cytosol aminopeptidase family, catalytic domain',\n",
       "  '2.7e-99',\n",
       "  'PF02789',\n",
       "  'Peptidase_M17_N',\n",
       "  'Cytosol aminopeptidase family, N-terminal domain',\n",
       "  '6.1e-15']]"
      ]
     },
     "execution_count": 38,
     "metadata": {},
     "output_type": "execute_result"
    }
   ],
   "source": [
    "t = rodeo_output_iterator(rod_dir, rod_dir_type)\n",
    "t.next()"
   ]
  },
  {
   "cell_type": "code",
   "execution_count": 28,
   "metadata": {
    "ExecuteTime": {
     "end_time": "2020-02-27T14:07:45.236419Z",
     "start_time": "2020-02-27T14:07:45.224411Z"
    }
   },
   "outputs": [],
   "source": [
    "def test_generator(a):\n",
    "    print 'kek'\n",
    "    if a == 1:\n",
    "        for i in range(5):\n",
    "            yield i\n",
    "            print 'lol'\n",
    "        yield 'fjhfjf'\n",
    "    else:\n",
    "        for i in range(100, 105):\n",
    "            yield i"
   ]
  },
  {
   "cell_type": "code",
   "execution_count": 29,
   "metadata": {
    "ExecuteTime": {
     "end_time": "2020-02-27T14:07:46.619944Z",
     "start_time": "2020-02-27T14:07:46.613106Z"
    }
   },
   "outputs": [
    {
     "name": "stdout",
     "output_type": "stream",
     "text": [
      "<generator object test_generator at 0x7f9b546e9eb0>\n"
     ]
    }
   ],
   "source": [
    "t = test_generator(1)\n",
    "print t"
   ]
  },
  {
   "cell_type": "code",
   "execution_count": 30,
   "metadata": {
    "ExecuteTime": {
     "end_time": "2020-02-27T14:07:47.415797Z",
     "start_time": "2020-02-27T14:07:47.406689Z"
    }
   },
   "outputs": [
    {
     "name": "stdout",
     "output_type": "stream",
     "text": [
      "kek\n"
     ]
    },
    {
     "data": {
      "text/plain": [
       "0"
      ]
     },
     "execution_count": 30,
     "metadata": {},
     "output_type": "execute_result"
    }
   ],
   "source": [
    "t.next()"
   ]
  },
  {
   "cell_type": "code",
   "execution_count": 31,
   "metadata": {
    "ExecuteTime": {
     "end_time": "2020-02-27T14:07:49.635993Z",
     "start_time": "2020-02-27T14:07:49.628391Z"
    }
   },
   "outputs": [
    {
     "name": "stdout",
     "output_type": "stream",
     "text": [
      "lol\n",
      "1\n",
      "lol\n",
      "2\n",
      "lol\n",
      "3\n",
      "lol\n",
      "4\n",
      "lol\n",
      "fjhfjf\n"
     ]
    }
   ],
   "source": [
    "for x in t:\n",
    "    print x"
   ]
  },
  {
   "cell_type": "code",
   "execution_count": 4,
   "metadata": {
    "ExecuteTime": {
     "end_time": "2020-02-27T13:13:20.434512Z",
     "start_time": "2020-02-27T13:13:20.426024Z"
    }
   },
   "outputs": [
    {
     "name": "stdout",
     "output_type": "stream",
     "text": [
      "b\n"
     ]
    }
   ],
   "source": [
    "a = None\n",
    "b = 1\n",
    "if a:\n",
    "    print 'a'\n",
    "if b:\n",
    "    print 'b'    "
   ]
  },
  {
   "cell_type": "code",
   "execution_count": 5,
   "metadata": {
    "ExecuteTime": {
     "end_time": "2020-02-27T13:25:30.625116Z",
     "start_time": "2020-02-27T13:25:30.543393Z"
    }
   },
   "outputs": [
    {
     "ename": "IOError",
     "evalue": "[Errno 2] No such file or directory: 'rtrt'",
     "output_type": "error",
     "traceback": [
      "\u001b[0;31m---------------------------------------------------------------------------\u001b[0m",
      "\u001b[0;31mIOError\u001b[0m                                   Traceback (most recent call last)",
      "\u001b[0;32m<ipython-input-5-6d9113a626b3>\u001b[0m in \u001b[0;36m<module>\u001b[0;34m()\u001b[0m\n\u001b[0;32m----> 1\u001b[0;31m \u001b[0minfile\u001b[0m \u001b[0;34m=\u001b[0m \u001b[0mopen\u001b[0m\u001b[0;34m(\u001b[0m\u001b[0;34m'rtrt'\u001b[0m\u001b[0;34m,\u001b[0m \u001b[0;34m'r'\u001b[0m\u001b[0;34m)\u001b[0m\u001b[0;34m\u001b[0m\u001b[0m\n\u001b[0m",
      "\u001b[0;31mIOError\u001b[0m: [Errno 2] No such file or directory: 'rtrt'"
     ]
    }
   ],
   "source": [
    "infile = open('rtrt', 'r')"
   ]
  },
  {
   "cell_type": "code",
   "execution_count": null,
   "metadata": {},
   "outputs": [],
   "source": [
    "type(os.listdir)"
   ]
  },
  {
   "cell_type": "code",
   "execution_count": null,
   "metadata": {},
   "outputs": [],
   "source": [
    "#os.mkdir('trimmed_gbk_headers_as')"
   ]
  },
  {
   "cell_type": "code",
   "execution_count": null,
   "metadata": {},
   "outputs": [],
   "source": [
    "operon_borders = {x : table_reader(x) for x in gotta_gbks}"
   ]
  },
  {
   "cell_type": "code",
   "execution_count": null,
   "metadata": {},
   "outputs": [],
   "source": [
    "operon_coords = get_operon_coords(operon_borders)"
   ]
  },
  {
   "cell_type": "code",
   "execution_count": null,
   "metadata": {},
   "outputs": [],
   "source": [
    "#os.mkdir('trimmed_gbk_headers_as_improved/')"
   ]
  },
  {
   "cell_type": "code",
   "execution_count": null,
   "metadata": {},
   "outputs": [],
   "source": [
    "make_antismash_great_again('tomms', {'tomms': 'thiopeptide'}, operon_coords, gotta_gbks)"
   ]
  }
 ],
 "metadata": {
  "kernelspec": {
   "display_name": "Python 2",
   "language": "python",
   "name": "python2"
  },
  "language_info": {
   "codemirror_mode": {
    "name": "ipython",
    "version": 2
   },
   "file_extension": ".py",
   "mimetype": "text/x-python",
   "name": "python",
   "nbconvert_exporter": "python",
   "pygments_lexer": "ipython2",
   "version": "2.7.15"
  }
 },
 "nbformat": 4,
 "nbformat_minor": 2
}
